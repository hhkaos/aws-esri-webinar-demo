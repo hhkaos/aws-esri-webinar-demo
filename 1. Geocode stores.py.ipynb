{
 "cells": [
  {
   "cell_type": "markdown",
   "id": "82ac27d2",
   "metadata": {},
   "source": [
    "# 1. Adding coordinates to a CSV with addresses\n",
    "\n",
    "**Table of contents**:\n",
    "* [Introduction](#Introduction)\n",
    "* [Starting point: CSV without coordinates](#Starting-point:-CSV-without-coordinates)\n",
    "* [Geocode addresses](#Geocode-addresses)\n",
    "* [Display results on a map](#Display-results-on-a-map)"
   ]
  },
  {
   "cell_type": "markdown",
   "id": "5fc64e07",
   "metadata": {},
   "source": [
    "## Introduction\n",
    "In order to begin implementing a location intelligence strategy, many organisations must first figure out **how to extract the coordinates of the geographic component of their data**, such as the postal address. We will address this challenge on this Notebook.\n",
    "\n",
    "![Geocoding](./images/geocoding.png)\n",
    "\n",
    "**Prerequisites:**\n",
    "* AWS SDK for Python ([Boto3](https://boto3.amazonaws.com/v1/documentation/api/latest/index.html))\n",
    "* [Python-dotenv](https://pypi.org/project/python-dotenv/) reads key-value pairs from a .env file and can set them as environment variables.\n",
    "* [pandas](https://pandas.pydata.org/) for data manipulation\n",
    "* [leafmap](https://leafmap.org/) to visualize the coordinates"
   ]
  },
  {
   "cell_type": "code",
   "execution_count": null,
   "id": "eb796ea6",
   "metadata": {
    "scrolled": false
   },
   "outputs": [],
   "source": [
    "! pip3 install boto3\n",
    "! pip3 install python-dotenv\n",
    "! pip3 install pandas\n",
    "! pip3 install leafmap"
   ]
  },
  {
   "cell_type": "code",
   "execution_count": 11,
   "id": "9f17254f",
   "metadata": {},
   "outputs": [],
   "source": [
    "import boto3\n",
    "from dotenv import load_dotenv\n",
    "import os\n",
    "import pandas as pd"
   ]
  },
  {
   "cell_type": "markdown",
   "id": "79337b65",
   "metadata": {},
   "source": [
    "## Starting point: CSV without coordinates"
   ]
  },
  {
   "cell_type": "code",
   "execution_count": 12,
   "id": "4ffe0795",
   "metadata": {},
   "outputs": [
    {
     "data": {
      "text/html": [
       "<div>\n",
       "<style scoped>\n",
       "    .dataframe tbody tr th:only-of-type {\n",
       "        vertical-align: middle;\n",
       "    }\n",
       "\n",
       "    .dataframe tbody tr th {\n",
       "        vertical-align: top;\n",
       "    }\n",
       "\n",
       "    .dataframe thead th {\n",
       "        text-align: right;\n",
       "    }\n",
       "</style>\n",
       "<table border=\"1\" class=\"dataframe\">\n",
       "  <thead>\n",
       "    <tr style=\"text-align: right;\">\n",
       "      <th></th>\n",
       "      <th>id</th>\n",
       "      <th>name</th>\n",
       "      <th>address</th>\n",
       "      <th>hours</th>\n",
       "    </tr>\n",
       "  </thead>\n",
       "  <tbody>\n",
       "    <tr>\n",
       "      <th>0</th>\n",
       "      <td>1</td>\n",
       "      <td>Birmingham New Street</td>\n",
       "      <td>Station Street, Birmingham, B2 4QA</td>\n",
       "      <td>09:00-17:00</td>\n",
       "    </tr>\n",
       "    <tr>\n",
       "      <th>1</th>\n",
       "      <td>2</td>\n",
       "      <td>Bristol Temple Meads</td>\n",
       "      <td>Station Approach, Bristol, BS1 6QF</td>\n",
       "      <td>09:00-17:00</td>\n",
       "    </tr>\n",
       "    <tr>\n",
       "      <th>2</th>\n",
       "      <td>3</td>\n",
       "      <td>Clapham Junction</td>\n",
       "      <td>St John's Hill, Clapham, Greater London, SW11 2QP</td>\n",
       "      <td>09:00-17:00</td>\n",
       "    </tr>\n",
       "    <tr>\n",
       "      <th>3</th>\n",
       "      <td>4</td>\n",
       "      <td>Guildford</td>\n",
       "      <td>Station Approach, Guildford, GU1 4UT</td>\n",
       "      <td>09:00-17:00</td>\n",
       "    </tr>\n",
       "    <tr>\n",
       "      <th>4</th>\n",
       "      <td>5</td>\n",
       "      <td>Leeds City</td>\n",
       "      <td>New Station Street, Leeds, LS1 4DY</td>\n",
       "      <td>08:00-20:30</td>\n",
       "    </tr>\n",
       "    <tr>\n",
       "      <th>5</th>\n",
       "      <td>6</td>\n",
       "      <td>Liverpool Lime Street</td>\n",
       "      <td>Lime Street, Liverpool, L1 1JD</td>\n",
       "      <td>09:00-17:30</td>\n",
       "    </tr>\n",
       "    <tr>\n",
       "      <th>6</th>\n",
       "      <td>7</td>\n",
       "      <td>London Bridge</td>\n",
       "      <td>Tooley Street, London, SE1 3QX</td>\n",
       "      <td>08:00-16:30</td>\n",
       "    </tr>\n",
       "    <tr>\n",
       "      <th>7</th>\n",
       "      <td>8</td>\n",
       "      <td>London Cannon Street</td>\n",
       "      <td>Cannon Street, London, EC4N 6AP</td>\n",
       "      <td>09:00-17:30</td>\n",
       "    </tr>\n",
       "    <tr>\n",
       "      <th>8</th>\n",
       "      <td>9</td>\n",
       "      <td>London Charing Cross</td>\n",
       "      <td>The Strand, London, WC2N 5HF</td>\n",
       "      <td>08:00-18:30</td>\n",
       "    </tr>\n",
       "    <tr>\n",
       "      <th>9</th>\n",
       "      <td>10</td>\n",
       "      <td>London Euston</td>\n",
       "      <td>Euston Road, London, NW1 2RT</td>\n",
       "      <td>09:00-17:30</td>\n",
       "    </tr>\n",
       "    <tr>\n",
       "      <th>10</th>\n",
       "      <td>11</td>\n",
       "      <td>London Kings Cross</td>\n",
       "      <td>Euston Road, London, N1 9AL</td>\n",
       "      <td>09:00-17:30</td>\n",
       "    </tr>\n",
       "    <tr>\n",
       "      <th>11</th>\n",
       "      <td>12</td>\n",
       "      <td>London Liverpool Street</td>\n",
       "      <td>Bishopsgate, London, EC2M 7PY</td>\n",
       "      <td>08:00-16:30</td>\n",
       "    </tr>\n",
       "    <tr>\n",
       "      <th>12</th>\n",
       "      <td>13</td>\n",
       "      <td>London Paddington</td>\n",
       "      <td>Praed Street, London, W2 1HQ</td>\n",
       "      <td>09:00-17:30</td>\n",
       "    </tr>\n",
       "    <tr>\n",
       "      <th>13</th>\n",
       "      <td>14</td>\n",
       "      <td>London St Pancras International</td>\n",
       "      <td>Pancras Road, London, N1C 4QP</td>\n",
       "      <td>09:00-17:00</td>\n",
       "    </tr>\n",
       "    <tr>\n",
       "      <th>14</th>\n",
       "      <td>15</td>\n",
       "      <td>London Victoria</td>\n",
       "      <td>Victoria Street, London, SW1V 1JU</td>\n",
       "      <td>08:30-17:30</td>\n",
       "    </tr>\n",
       "    <tr>\n",
       "      <th>15</th>\n",
       "      <td>16</td>\n",
       "      <td>London Waterloo</td>\n",
       "      <td>Station Approach, London, SE1 8SW</td>\n",
       "      <td>08:00-20:30</td>\n",
       "    </tr>\n",
       "    <tr>\n",
       "      <th>16</th>\n",
       "      <td>17</td>\n",
       "      <td>Manchester Piccadilly</td>\n",
       "      <td>Piccadilly Station Approach, Manchester, M60 7RA</td>\n",
       "      <td>09:00-17:30</td>\n",
       "    </tr>\n",
       "    <tr>\n",
       "      <th>17</th>\n",
       "      <td>18</td>\n",
       "      <td>Reading</td>\n",
       "      <td>Station Hill, Reading, RG1 1LZ</td>\n",
       "      <td>07:00-17:30</td>\n",
       "    </tr>\n",
       "  </tbody>\n",
       "</table>\n",
       "</div>"
      ],
      "text/plain": [
       "    id                             name  \\\n",
       "0    1            Birmingham New Street   \n",
       "1    2             Bristol Temple Meads   \n",
       "2    3                 Clapham Junction   \n",
       "3    4                        Guildford   \n",
       "4    5                       Leeds City   \n",
       "5    6            Liverpool Lime Street   \n",
       "6    7                    London Bridge   \n",
       "7    8             London Cannon Street   \n",
       "8    9             London Charing Cross   \n",
       "9   10                    London Euston   \n",
       "10  11               London Kings Cross   \n",
       "11  12          London Liverpool Street   \n",
       "12  13                London Paddington   \n",
       "13  14  London St Pancras International   \n",
       "14  15                  London Victoria   \n",
       "15  16                  London Waterloo   \n",
       "16  17            Manchester Piccadilly   \n",
       "17  18                          Reading   \n",
       "\n",
       "                                              address        hours  \n",
       "0                  Station Street, Birmingham, B2 4QA  09:00-17:00  \n",
       "1                  Station Approach, Bristol, BS1 6QF  09:00-17:00  \n",
       "2   St John's Hill, Clapham, Greater London, SW11 2QP  09:00-17:00  \n",
       "3                Station Approach, Guildford, GU1 4UT  09:00-17:00  \n",
       "4                  New Station Street, Leeds, LS1 4DY  08:00-20:30  \n",
       "5                      Lime Street, Liverpool, L1 1JD  09:00-17:30  \n",
       "6                      Tooley Street, London, SE1 3QX  08:00-16:30  \n",
       "7                     Cannon Street, London, EC4N 6AP  09:00-17:30  \n",
       "8                        The Strand, London, WC2N 5HF  08:00-18:30  \n",
       "9                        Euston Road, London, NW1 2RT  09:00-17:30  \n",
       "10                        Euston Road, London, N1 9AL  09:00-17:30  \n",
       "11                      Bishopsgate, London, EC2M 7PY  08:00-16:30  \n",
       "12                       Praed Street, London, W2 1HQ  09:00-17:30  \n",
       "13                      Pancras Road, London, N1C 4QP  09:00-17:00  \n",
       "14                  Victoria Street, London, SW1V 1JU  08:30-17:30  \n",
       "15                  Station Approach, London, SE1 8SW  08:00-20:30  \n",
       "16   Piccadilly Station Approach, Manchester, M60 7RA  09:00-17:30  \n",
       "17                     Station Hill, Reading, RG1 1LZ  07:00-17:30  "
      ]
     },
     "execution_count": 12,
     "metadata": {},
     "output_type": "execute_result"
    }
   ],
   "source": [
    "df = pd.read_csv(\"data/stores/uk_stores_without_coordinates.csv\")\n",
    "df"
   ]
  },
  {
   "cell_type": "markdown",
   "id": "f481473e",
   "metadata": {},
   "source": [
    "## Geocode addresses"
   ]
  },
  {
   "cell_type": "markdown",
   "id": "f5013a1b",
   "metadata": {},
   "source": [
    "To initialise Boto3, **you must generate a `.evn` file in the root directory** with the following structure:\n",
    "\n",
    "```\n",
    "AWS_ACCESS_KEY = YOUR_ACCESS_KEY\n",
    "AWS_SECRET_ACCESS_KEY = YOUR_SECRET_KEY\n",
    "AWS_REGION = YOUR_REGION\n",
    "```"
   ]
  },
  {
   "cell_type": "code",
   "execution_count": 13,
   "id": "5638c774",
   "metadata": {},
   "outputs": [],
   "source": [
    "# Load environment variables from .env file\n",
    "load_dotenv()\n",
    "\n",
    "# Create a client for Amazon Location service\n",
    "amazon_location_client = boto3.client(\n",
    "    \"location\", # https://boto3.amazonaws.com/v1/documentation/api/latest/reference/services/location.html\n",
    "    aws_access_key_id = os.getenv(\"AWS_ACCESS_KEY\"),\n",
    "    aws_secret_access_key = os.getenv(\"AWS_SECRET_ACCESS_KEY\"),\n",
    "    region_name = os.getenv(\"AWS_REGION\"),\n",
    ")"
   ]
  },
  {
   "cell_type": "markdown",
   "id": "7afa50c1",
   "metadata": {},
   "source": [
    "Now we will use [search_place_index_for_text](https://boto3.amazonaws.com/v1/documentation/api/latest/reference/services/location/client/search_place_index_for_text.html) function to send a request to [SearchPlaceIndexForText API](https://docs.aws.amazon.com/location/latest/APIReference/API_SearchPlaceIndexForText.html). \n",
    "\n",
    "In this case, we will use a **Place index resource with data storage enabled**:\n",
    "![Place index resource - Data storage options screenshot](./images/place-index-resource-data-storage.png)"
   ]
  },
  {
   "cell_type": "code",
   "execution_count": 14,
   "id": "402ab326",
   "metadata": {},
   "outputs": [],
   "source": [
    "def amazon_location_geocoder(address):\n",
    "    result = amazon_location_client.search_place_index_for_text(\n",
    "        IndexName = 'AWS-Esri-Demo-PlaceIndex', \n",
    "        Text = address\n",
    "        MaxResults = 1, \n",
    "        # For fine grain control you can use: BiasPosition, FilterBBox, FilterCountries, ...\n",
    "    )\n",
    "    if len(result[\"Results\"]) == 0:\n",
    "        print(f'No results found for: {address}')\n",
    "        return None\n",
    "    else:\n",
    "        top_result = result[\"Results\"][0]\n",
    "        # Add additional logic to ensure data match\n",
    "        place = top_result[\"Place\"]\n",
    "        geometry = place.get(\"Geometry\")\n",
    "        if geometry:\n",
    "            longitude = geometry.get(\"Point\", [None, None])[0]\n",
    "            latitude = geometry.get(\"Point\", [None, None])[1]\n",
    "        else:\n",
    "            longitude = None\n",
    "            latitude = None\n",
    "        return {\n",
    "            \"street_number\": place.get(\"AddressNumber\"),\n",
    "            \"street_name\": place.get(\"Street\"),\n",
    "            \"city\": place.get(\"Municipality\"),\n",
    "            \"province\": place.get(\"Region\"),\n",
    "            \"postal_code\": place.get(\"PostalCode\"),\n",
    "            \"country\": place.get(\"Country\"),\n",
    "            \"label\": place.get(\"Label\"),\n",
    "            \"longitude\": longitude,\n",
    "            \"latitude\": latitude,\n",
    "        }"
   ]
  },
  {
   "cell_type": "code",
   "execution_count": 15,
   "id": "0fd7fdf8",
   "metadata": {
    "scrolled": false
   },
   "outputs": [
    {
     "name": "stdout",
     "output_type": "stream",
     "text": [
      "Geocoding: Station Street, Birmingham, B2 4QA - [-1.897900002961, 52.477159980907]\n",
      "Geocoding: Station Approach, Bristol, BS1 6QF - [-2.583003846773, 51.448783907766]\n",
      "Geocoding: St John's Hill, Clapham, Greater London, SW11 2QP - [-0.169860022222, 51.463619997475]\n",
      "Geocoding: Station Approach, Guildford, GU1 4UT - [-0.565452200312, 51.240223266611]\n",
      "Geocoding: New Station Street, Leeds, LS1 4DY - [-1.54675119936, 53.795010905595]\n",
      "Geocoding: Lime Street, Liverpool, L1 1JD - [-2.979140942791, 53.406507913708]\n",
      "Geocoding: Tooley Street, London, SE1 3QX - [-0.085979970212, 51.503960001983]\n",
      "Geocoding: Cannon Street, London, EC4N 6AP - [-0.088112832385, 51.511199101651]\n",
      "Geocoding: The Strand, London, WC2N 5HF - [-0.125497431872, 51.508524845703]\n",
      "Geocoding: Euston Road, London, NW1 2RT - [-0.134224371636, 51.526194853955]\n",
      "Geocoding: Euston Road, London, N1 9AL - [-0.123195845726, 51.530367545945]\n",
      "Geocoding: Bishopsgate, London, EC2M 7PY - [-0.082299979442, 51.518560020029]\n",
      "Geocoding: Praed Street, London, W2 1HQ - [-0.172680194709, 51.517219786578]\n",
      "Geocoding: Pancras Road, London, N1C 4QP - [-0.125936509891, 51.53253755719]\n",
      "Geocoding: Victoria Street, London, SW1V 1JU - [-0.142520295272, 51.49654998048]\n",
      "Geocoding: Station Approach, London, SE1 8SW - [-0.111724276452, 51.503333686542]\n",
      "Geocoding: Piccadilly Station Approach, Manchester, M60 7RA - [-2.23217, 53.47903]\n",
      "Geocoding: Station Hill, Reading, RG1 1LZ - [-0.973355142541, 51.458565323337]\n",
      "All stores have been geocoded!\n"
     ]
    }
   ],
   "source": [
    "for index, row in df.iterrows():\n",
    "    address = df.at[index, 'address']\n",
    "    result = amazon_location_geocoder(address)\n",
    "    lon = result['longitude']\n",
    "    lat = result['latitude']\n",
    "    print(f'Geocoding: {address} - [{lon}, {lat}]')\n",
    "    df.at[index,'longitude'] = lon\n",
    "    df.at[index,'latitude'] = lat\n",
    "\n",
    "df.to_csv('data/stores/uk_stores_with_coordinates.csv', index = False)\n",
    "\n",
    "print(f\"All stores have been geocoded and saved locally!\")"
   ]
  },
  {
   "cell_type": "markdown",
   "id": "33d7c473",
   "metadata": {},
   "source": [
    "## Display results on a map"
   ]
  },
  {
   "cell_type": "code",
   "execution_count": 17,
   "id": "8f73dd56",
   "metadata": {
    "scrolled": true
   },
   "outputs": [
    {
     "data": {
      "application/vnd.jupyter.widget-view+json": {
       "model_id": "018b036ba747420eb41fb96d8f50596f",
       "version_major": 2,
       "version_minor": 0
      },
      "text/plain": [
       "Map(center=[51.50852507962595, -0.12549702207699787], controls=(ZoomControl(options=['position', 'zoom_in_text…"
      ]
     },
     "metadata": {},
     "output_type": "display_data"
    }
   ],
   "source": [
    "import leafmap\n",
    "\n",
    "m = leafmap.Map(center=[51.50852507962595, -0.12549702207699787], zoom=6, draw_control=False, measure_control=False)\n",
    "m.add_basemap(\"Esri.WorldTopoMap\")\n",
    "m.add_xy_data('data/stores/uk_stores_with_coordinates.csv', x=\"longitude\", y=\"latitude\", layer_name=\"UK stores\")\n",
    "m"
   ]
  }
 ],
 "metadata": {
  "kernelspec": {
   "display_name": "Python 3 (ipykernel)",
   "language": "python",
   "name": "python3"
  },
  "language_info": {
   "codemirror_mode": {
    "name": "ipython",
    "version": 3
   },
   "file_extension": ".py",
   "mimetype": "text/x-python",
   "name": "python",
   "nbconvert_exporter": "python",
   "pygments_lexer": "ipython3",
   "version": "3.10.9"
  }
 },
 "nbformat": 4,
 "nbformat_minor": 5
}
