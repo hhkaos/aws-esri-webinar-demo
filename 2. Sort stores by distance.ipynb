{
 "cells": [
  {
   "cell_type": "markdown",
   "id": "53276ccd",
   "metadata": {},
   "source": [
    "# Calculate distance to stores in London by car"
   ]
  },
  {
   "cell_type": "code",
   "execution_count": 34,
   "id": "2fee15c1",
   "metadata": {},
   "outputs": [],
   "source": [
    "import boto3\n",
    "from dotenv import load_dotenv\n",
    "import os\n",
    "import pandas as pd"
   ]
  },
  {
   "cell_type": "code",
   "execution_count": 35,
   "id": "f3791b90",
   "metadata": {},
   "outputs": [],
   "source": [
    "# Load environment variables from .env file\n",
    "load_dotenv()\n",
    "\n",
    "# Create a client for Amazon Location service\n",
    "amazon_location_client = boto3.client(\n",
    "    \"location\",\n",
    "    aws_access_key_id = os.getenv(\"AWS_ACCESS_KEY\"),\n",
    "    aws_secret_access_key = os.getenv(\"AWS_SECRET_ACCESS_KEY\"),\n",
    "    region_name = os.getenv(\"AWS_REGION\"),\n",
    ")"
   ]
  },
  {
   "cell_type": "code",
   "execution_count": 36,
   "id": "561a0839",
   "metadata": {},
   "outputs": [],
   "source": [
    "response = amazon_location_client.calculate_route_matrix(\n",
    "    CalculatorName = 'AWS-Esri-Demo',\n",
    "    TravelMode = 'Car',\n",
    "    DeparturePositions=[\n",
    "        [-0.1417089267, 51.5787616672]\n",
    "    ],\n",
    "    DestinationPositions = [\n",
    "        [-0.1254974319, 51.50852485],\n",
    "        [-0.1342243716, 51.52619485],\n",
    "        [-0.1231958457, 51.53036755],\n",
    "        [-0.08229997944, 51.51856002],\n",
    "        [-0.1726801947, 51.51721979],\n",
    "        [-0.1259365099, 51.53253756],\n",
    "        [-0.1425202953, 51.49654998],\n",
    "        [-0.1117242765, 51.50333369]\n",
    "    ],\n",
    "    DistanceUnit = 'Kilometers'\n",
    ")"
   ]
  },
  {
   "cell_type": "code",
   "execution_count": 37,
   "id": "b7464571",
   "metadata": {},
   "outputs": [
    {
     "data": {
      "text/plain": [
       "[[{'Distance': 9.757, 'DurationSeconds': 1497},\n",
       "  {'Distance': 7.567, 'DurationSeconds': 1030},\n",
       "  {'Distance': 6.823, 'DurationSeconds': 929},\n",
       "  {'Distance': 9.059, 'DurationSeconds': 1422},\n",
       "  {'Distance': 10.065, 'DurationSeconds': 1446},\n",
       "  {'Distance': 7.212, 'DurationSeconds': 1016},\n",
       "  {'Distance': 12.44, 'DurationSeconds': 1792},\n",
       "  {'Distance': 11.098, 'DurationSeconds': 1641}]]"
      ]
     },
     "execution_count": 37,
     "metadata": {},
     "output_type": "execute_result"
    }
   ],
   "source": [
    "response['RouteMatrix']"
   ]
  },
  {
   "cell_type": "code",
   "execution_count": 38,
   "id": "c3210324",
   "metadata": {},
   "outputs": [
    {
     "data": {
      "text/plain": [
       "{'DataSource': 'Esri',\n",
       " 'DistanceUnit': 'Kilometers',\n",
       " 'ErrorCount': 0,\n",
       " 'RouteCount': 8}"
      ]
     },
     "execution_count": 38,
     "metadata": {},
     "output_type": "execute_result"
    }
   ],
   "source": [
    "response['Summary']"
   ]
  }
 ],
 "metadata": {
  "kernelspec": {
   "display_name": "Python 3 (ipykernel)",
   "language": "python",
   "name": "python3"
  },
  "language_info": {
   "codemirror_mode": {
    "name": "ipython",
    "version": 3
   },
   "file_extension": ".py",
   "mimetype": "text/x-python",
   "name": "python",
   "nbconvert_exporter": "python",
   "pygments_lexer": "ipython3",
   "version": "3.10.9"
  }
 },
 "nbformat": 4,
 "nbformat_minor": 5
}
