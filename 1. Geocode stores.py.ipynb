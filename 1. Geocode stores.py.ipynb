{
 "cells": [
  {
   "cell_type": "markdown",
   "id": "82ac27d2",
   "metadata": {},
   "source": [
    "# 1. Adding coordinates to a CSV with addresses\n",
    "\n",
    "**Prerequisites:**\n",
    "* AWS SDK for Python ([Boto3](https://boto3.amazonaws.com/v1/documentation/api/latest/index.html))\n",
    "* [Python-dotenv](https://pypi.org/project/python-dotenv/) reads key-value pairs from a .env file and can set them as environment variables.\n",
    "* [pandas](https://pandas.pydata.org/) for data manipulation"
   ]
  },
  {
   "cell_type": "code",
   "execution_count": 15,
   "id": "eb796ea6",
   "metadata": {},
   "outputs": [
    {
     "name": "stdout",
     "output_type": "stream",
     "text": [
      "Requirement already satisfied: boto3 in /Users/ral97612/anaconda3/lib/python3.10/site-packages (1.28.62)\n",
      "Requirement already satisfied: botocore<1.32.0,>=1.31.62 in /Users/ral97612/anaconda3/lib/python3.10/site-packages (from boto3) (1.31.62)\n",
      "Requirement already satisfied: jmespath<2.0.0,>=0.7.1 in /Users/ral97612/anaconda3/lib/python3.10/site-packages (from boto3) (0.10.0)\n",
      "Requirement already satisfied: s3transfer<0.8.0,>=0.7.0 in /Users/ral97612/anaconda3/lib/python3.10/site-packages (from boto3) (0.7.0)\n",
      "Requirement already satisfied: python-dateutil<3.0.0,>=2.1 in /Users/ral97612/anaconda3/lib/python3.10/site-packages (from botocore<1.32.0,>=1.31.62->boto3) (2.8.2)\n",
      "Requirement already satisfied: urllib3<2.1,>=1.25.4 in /Users/ral97612/anaconda3/lib/python3.10/site-packages (from botocore<1.32.0,>=1.31.62->boto3) (1.26.14)\n",
      "Requirement already satisfied: six>=1.5 in /Users/ral97612/anaconda3/lib/python3.10/site-packages (from python-dateutil<3.0.0,>=2.1->botocore<1.32.0,>=1.31.62->boto3) (1.16.0)\n",
      "Requirement already satisfied: python-dotenv in /Users/ral97612/anaconda3/lib/python3.10/site-packages (1.0.0)\n",
      "Requirement already satisfied: pandas in /Users/ral97612/anaconda3/lib/python3.10/site-packages (2.1.1)\n",
      "Requirement already satisfied: pytz>=2020.1 in /Users/ral97612/anaconda3/lib/python3.10/site-packages (from pandas) (2022.7)\n",
      "Requirement already satisfied: tzdata>=2022.1 in /Users/ral97612/anaconda3/lib/python3.10/site-packages (from pandas) (2023.3)\n",
      "Requirement already satisfied: python-dateutil>=2.8.2 in /Users/ral97612/anaconda3/lib/python3.10/site-packages (from pandas) (2.8.2)\n",
      "Requirement already satisfied: numpy>=1.22.4 in /Users/ral97612/anaconda3/lib/python3.10/site-packages (from pandas) (1.23.5)\n",
      "Requirement already satisfied: six>=1.5 in /Users/ral97612/anaconda3/lib/python3.10/site-packages (from python-dateutil>=2.8.2->pandas) (1.16.0)\n"
     ]
    }
   ],
   "source": [
    "! pip3 install boto3\n",
    "! pip3 install python-dotenv\n",
    "! pip3 install pandas"
   ]
  },
  {
   "cell_type": "code",
   "execution_count": 16,
   "id": "9f17254f",
   "metadata": {},
   "outputs": [],
   "source": [
    "import boto3\n",
    "from dotenv import load_dotenv\n",
    "import os\n",
    "import pandas as pd"
   ]
  },
  {
   "cell_type": "code",
   "execution_count": 17,
   "id": "5638c774",
   "metadata": {},
   "outputs": [],
   "source": [
    "# Load environment variables from .env file\n",
    "load_dotenv()\n",
    "\n",
    "# Create a client for Amazon Location service\n",
    "amazon_location_client = boto3.client(\n",
    "    \"location\",\n",
    "    aws_access_key_id = os.getenv(\"AWS_ACCESS_KEY\"),\n",
    "    aws_secret_access_key = os.getenv(\"AWS_SECRET_ACCESS_KEY\"),\n",
    "    region_name = os.getenv(\"AWS_REGION\"),\n",
    ")"
   ]
  },
  {
   "cell_type": "markdown",
   "id": "7afa50c1",
   "metadata": {},
   "source": [
    "Now we will use [search_place_index_for_text](https://boto3.amazonaws.com/v1/documentation/api/latest/reference/services/location/client/search_place_index_for_text.html) function that send a request to [SearchPlaceIndexForText](https://docs.aws.amazon.com/location/latest/APIReference/API_SearchPlaceIndexForText.html)"
   ]
  },
  {
   "cell_type": "code",
   "execution_count": 18,
   "id": "402ab326",
   "metadata": {},
   "outputs": [],
   "source": [
    "def amazon_location_geocoder(address):\n",
    "    result = amazon_location_client.search_place_index_for_text(\n",
    "        IndexName='MyIndexName', MaxResults=1, Text=address\n",
    "    )\n",
    "    if len(result[\"Results\"]) == 0:\n",
    "        print(f'No results found for: {address}')\n",
    "        return None\n",
    "    else:\n",
    "        top_result = result[\"Results\"][0]\n",
    "        place = top_result[\"Place\"]\n",
    "        geometry = place.get(\"Geometry\")\n",
    "        if geometry:\n",
    "            longitude = geometry.get(\"Point\", [None, None])[0]\n",
    "            latitude = geometry.get(\"Point\", [None, None])[1]\n",
    "        else:\n",
    "            longitude = None\n",
    "            latitude = None\n",
    "        return {\n",
    "            \"street_number\": place.get(\"AddressNumber\"),\n",
    "            \"street_name\": place.get(\"Street\"),\n",
    "            \"city\": place.get(\"Municipality\"),\n",
    "            \"province\": place.get(\"Region\"),\n",
    "            \"postal_code\": place.get(\"PostalCode\"),\n",
    "            \"country\": place.get(\"Country\"),\n",
    "            \"label\": place.get(\"Label\"),\n",
    "            \"longitude\": longitude,\n",
    "            \"latitude\": latitude,\n",
    "        }"
   ]
  },
  {
   "cell_type": "code",
   "execution_count": 19,
   "id": "0fd7fdf8",
   "metadata": {
    "scrolled": true
   },
   "outputs": [
    {
     "name": "stdout",
     "output_type": "stream",
     "text": [
      "Geocoding: Station Street, Birmingham, B2 4QA\n",
      "Geocoding: Station Approach, Bristol, BS1 6QF\n",
      "Geocoding: St John's Hill, Clapham, Greater London, SW11 2QP\n",
      "Geocoding: Station Approach, Guildford, GU1 4UT\n",
      "Geocoding: New Station Street, Leeds, LS1 4DY\n",
      "Geocoding: Lime Street, Liverpool, L1 1JD\n",
      "Geocoding: Tooley Street, London, SE1 3QX\n",
      "Geocoding: Cannon Street, London, EC4N 6AP\n",
      "Geocoding: The Strand, London, WC2N 5HF\n",
      "Geocoding: Euston Road, London, NW1 2RT\n",
      "Geocoding: Euston Road, London, N1 9AL\n",
      "Geocoding: Bishopsgate, London, EC2M 7PY\n",
      "Geocoding: Praed Street, London, W2 1HQ\n",
      "Geocoding: Pancras Road, London, N1C 4QP\n",
      "Geocoding: Victoria Street, London, SW1V 1JU\n",
      "Geocoding: Station Approach, London, SE1 8SW\n",
      "Geocoding: Piccadilly Station Approach, Manchester, M60 7RA\n",
      "Geocoding: Station Hill, Reading, RG1 1LZ\n",
      "All stores have been geocoded!\n"
     ]
    }
   ],
   "source": [
    "df = pd.read_csv(\"data/stores/uk_stores_without_coordinates.csv\")\n",
    "\n",
    "for index, fila in df.iterrows():\n",
    "    address = df.at[index, 'address']\n",
    "    print(f'Geocoding: {address}')\n",
    "    result = amazon_location_geocoder(address)\n",
    "    df.at[index,'longitude'] = result['longitude']\n",
    "    df.at[index,'latitude'] = result['latitude']\n",
    "\n",
    "df.to_csv('data/stores/uk_stores_with_coordinates.csv', index=False)\n",
    "\n",
    "print(f\"All stores have been geocoded!\")"
   ]
  }
 ],
 "metadata": {
  "kernelspec": {
   "display_name": "Python 3 (ipykernel)",
   "language": "python",
   "name": "python3"
  },
  "language_info": {
   "codemirror_mode": {
    "name": "ipython",
    "version": 3
   },
   "file_extension": ".py",
   "mimetype": "text/x-python",
   "name": "python",
   "nbconvert_exporter": "python",
   "pygments_lexer": "ipython3",
   "version": "3.10.9"
  }
 },
 "nbformat": 4,
 "nbformat_minor": 5
}
