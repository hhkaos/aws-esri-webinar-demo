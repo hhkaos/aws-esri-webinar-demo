{
 "cells": [
  {
   "cell_type": "markdown",
   "id": "9dbd377d",
   "metadata": {},
   "source": [
    "# Calculate optimal routes for six trucks with multiple waypoints\n",
    "\n",
    "\n",
    "**Table of contents**:\n",
    "* [Introduction](#Introduction)\n",
    "* [Calculate optimized truck route (returning to the starting point)](#Calculate-optimized-truck-route-(returning-to-the-starting-point))\n",
    "* [Calculate all routes](#Calculate-all-routes)\n",
    "* [Display calculated routes on a Map](#Display-calculated-routes-on-a-Map)"
   ]
  },
  {
   "cell_type": "markdown",
   "id": "9ccb5728",
   "metadata": {},
   "source": [
    "## Introduction\n",
    "\n",
    "When we have a fleet of trucks that have to distribute stock to several shops, we will face the **challenge of calculating the optimal route for each truck**.  \n",
    "![Animation of truck optimized routes](./images/truck_optimized_routes.gif)"
   ]
  },
  {
   "cell_type": "code",
   "execution_count": null,
   "id": "c5cd5d25",
   "metadata": {},
   "outputs": [],
   "source": [
    "!pip3 install boto3\n",
    "!pip3 install leafmap"
   ]
  },
  {
   "cell_type": "code",
   "execution_count": null,
   "id": "ddbd7a99",
   "metadata": {},
   "outputs": [],
   "source": [
    "import boto3\n",
    "from dotenv import load_dotenv\n",
    "import os\n",
    "import pandas as pd"
   ]
  },
  {
   "cell_type": "code",
   "execution_count": null,
   "id": "1233e4a4",
   "metadata": {},
   "outputs": [],
   "source": [
    "# Load environment variables from .env file\n",
    "load_dotenv()\n",
    "\n",
    "# Create a client for Amazon Location service\n",
    "amazon_location_client = boto3.client(\n",
    "    \"location\",\n",
    "    aws_access_key_id = os.getenv(\"AWS_ACCESS_KEY\"),\n",
    "    aws_secret_access_key = os.getenv(\"AWS_SECRET_ACCESS_KEY\"),\n",
    "    region_name = os.getenv(\"AWS_REGION\"),\n",
    ")"
   ]
  },
  {
   "cell_type": "markdown",
   "id": "cb79aac8",
   "metadata": {},
   "source": [
    "## Calculate optimized truck route (returning to the starting point)"
   ]
  },
  {
   "cell_type": "code",
   "execution_count": null,
   "id": "7766dd01",
   "metadata": {},
   "outputs": [],
   "source": [
    "response = amazon_location_client.calculate_route(\n",
    "    CalculatorName='AWS-Esri-Demo',\n",
    "    #DepartNow=True|False,\n",
    "    DeparturePosition = [-0.1417089267, 51.5787616672],\n",
    "    #DepartureTime = datetime(2015, 1, 1),\n",
    "    DestinationPosition = [-0.1417089267, 51.5787616672],\n",
    "    DistanceUnit = 'Kilometers',\n",
    "    IncludeLegGeometry = True,\n",
    "    #Key='string',\n",
    "    TravelMode = 'Truck',\n",
    "    TruckModeOptions = {\n",
    "        'AvoidFerries': True,\n",
    "        'AvoidTolls': True,\n",
    "        'Dimensions': {\n",
    "            'Height': 2,\n",
    "            'Length': 2.57,\n",
    "            'Unit': 'Meters',\n",
    "            'Width': 1.4\n",
    "        }\n",
    "    },\n",
    "    WaypointPositions = [\n",
    "        [-0.1254974319, 51.50852485], \n",
    "        [-0.08229997944, 51.51856002], \n",
    "        [-0.1259365099, 51.53253756], \n",
    "        [-0.1425202953, 51.49654998]\n",
    "    ]\n",
    ")"
   ]
  },
  {
   "cell_type": "code",
   "execution_count": null,
   "id": "400d1eaa",
   "metadata": {},
   "outputs": [],
   "source": [
    "len(response['Legs'])"
   ]
  },
  {
   "cell_type": "code",
   "execution_count": null,
   "id": "13979fcb",
   "metadata": {
    "scrolled": false
   },
   "outputs": [],
   "source": [
    "response['Legs'][0]"
   ]
  },
  {
   "cell_type": "code",
   "execution_count": null,
   "id": "81801b3f",
   "metadata": {
    "scrolled": false
   },
   "outputs": [],
   "source": [
    "response['Summary']"
   ]
  },
  {
   "cell_type": "markdown",
   "id": "76232540",
   "metadata": {},
   "source": [
    "# Calculate all routes"
   ]
  },
  {
   "cell_type": "code",
   "execution_count": null,
   "id": "c432230b",
   "metadata": {
    "scrolled": true
   },
   "outputs": [],
   "source": [
    "df = pd.read_csv(\"truck_data.csv\")\n",
    "\n",
    "df"
   ]
  },
  {
   "cell_type": "code",
   "execution_count": null,
   "id": "0a9e62d9",
   "metadata": {},
   "outputs": [],
   "source": [
    "from ast import literal_eval\n",
    "routes = []\n",
    "for index, fila in df.iterrows():\n",
    "    routes.append(amazon_location_client.calculate_route(\n",
    "        CalculatorName='AWS-Esri-Demo',\n",
    "        DeparturePosition = literal_eval(df.at[index,'origin']),\n",
    "        DestinationPosition = literal_eval(df.at[index,'origin']),\n",
    "        DistanceUnit = 'Kilometers',\n",
    "        IncludeLegGeometry = True,\n",
    "        TravelMode = 'Truck',\n",
    "        TruckModeOptions = {\n",
    "            'AvoidFerries': True,\n",
    "            'AvoidTolls': True,\n",
    "            'Dimensions': {\n",
    "                'Height': df.at[index,'height'],\n",
    "                'Length': df.at[index,'length'],\n",
    "                'Unit': 'Meters',\n",
    "                'Width': df.at[index,'width']\n",
    "            }\n",
    "        },\n",
    "        WaypointPositions = literal_eval(df.at[index,'destinations'])\n",
    "    ))\n"
   ]
  },
  {
   "cell_type": "code",
   "execution_count": null,
   "id": "29a0c19c",
   "metadata": {
    "scrolled": false
   },
   "outputs": [],
   "source": [
    "routes"
   ]
  },
  {
   "cell_type": "markdown",
   "id": "0a4a801f",
   "metadata": {},
   "source": [
    "# Display calculated routes on a Map"
   ]
  },
  {
   "cell_type": "code",
   "execution_count": null,
   "id": "a0919396",
   "metadata": {},
   "outputs": [],
   "source": [
    "import geojson\n",
    "# Create a GeoJSON FeatureCollection\n",
    "line_strings = []\n",
    "\n",
    "def convert_to_geojson(line_strings):\n",
    "    # Create a GeoJSON FeatureCollection\n",
    "    features = []\n",
    "\n",
    "    # Add LineString features\n",
    "    for line_string_coords in line_strings:\n",
    "        line_string = geojson.LineString(coordinates=line_string_coords)\n",
    "        features.append(geojson.Feature(geometry=line_string))\n",
    "\n",
    "    # Create the FeatureCollection\n",
    "    feature_collection = geojson.FeatureCollection(features)\n",
    "\n",
    "    # Serialize the GeoJSON object to a string\n",
    "    geojson_str = geojson.dumps(feature_collection, sort_keys=True)\n",
    "\n",
    "    return geojson_str\n",
    "\n",
    "for i, route in enumerate(routes):\n",
    "    line_strings = []\n",
    "    for leg in route['Legs']:\n",
    "        line_strings.append(leg['Geometry']['LineString'])\n",
    "\n",
    "    # Call the function to convert to GeoJSON\n",
    "    result_geojson = convert_to_geojson(line_strings)\n",
    "\n",
    "    file_path = \"data/truck/route_truck%d.geojson\" % (i)\n",
    "\n",
    "    # Write the GeoJSON string to the file\n",
    "    with open(file_path, \"w\") as geojson_file:\n",
    "        geojson_file.write(result_geojson)\n",
    "\n",
    "    print(f\"GeoJSON saved to {file_path}\")"
   ]
  },
  {
   "cell_type": "code",
   "execution_count": null,
   "id": "5ee75d85",
   "metadata": {
    "scrolled": true
   },
   "outputs": [],
   "source": [
    "import leafmap\n",
    "\n",
    "m = leafmap.Map(center=[51.50852507962595, -0.12549702207699787], zoom=12, draw_control=False, measure_control=False)\n",
    "m.add_basemap(\"Esri.WorldTopoMap\")\n",
    "#m.add_xy_data('uk_stores_with_coordinates.csv', x=\"longitude\", y=\"latitude\", layer_name=\"All stores\")\n",
    "for i in range(6):\n",
    "    file_path = \"truck%d_origin.geojson\" % (i)\n",
    "    m.add_geojson(\"data/truck/%s\" % (file_path), layer_name=file_path)\n",
    "    file_path = \"truck%d_destinations.geojson\" % (i)\n",
    "    m.add_geojson(\"data/truck/%s\" % (file_path), layer_name=file_path)\n",
    "    file_path = \"route_truck%d.geojson\" % (i)\n",
    "    m.add_geojson(\"data/truck/%s\" % (file_path), layer_name=\"truck%d_route\" % (i))\n",
    "\n",
    "m"
   ]
  }
 ],
 "metadata": {
  "kernelspec": {
   "display_name": "Python 3 (ipykernel)",
   "language": "python",
   "name": "python3"
  },
  "language_info": {
   "codemirror_mode": {
    "name": "ipython",
    "version": 3
   },
   "file_extension": ".py",
   "mimetype": "text/x-python",
   "name": "python",
   "nbconvert_exporter": "python",
   "pygments_lexer": "ipython3",
   "version": "3.10.9"
  }
 },
 "nbformat": 4,
 "nbformat_minor": 5
}
